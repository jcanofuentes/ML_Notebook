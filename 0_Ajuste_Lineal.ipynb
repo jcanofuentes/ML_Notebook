{
 "cells": [
  {
   "cell_type": "markdown",
   "metadata": {
    "colab_type": "text",
    "id": "view-in-github"
   },
   "source": [
    "<a href=\"https://colab.research.google.com/github/jcanofuentes/ML_Notebook/blob/main/0_Ajuste_Lineal.ipynb\" target=\"_parent\"><img src=\"https://colab.research.google.com/assets/colab-badge.svg\" alt=\"Open In Colab\"/></a>"
   ]
  },
  {
   "cell_type": "markdown",
   "metadata": {
    "id": "LdcEkBD_5OYf"
   },
   "source": [
    "Machine Learning VS Regular Programming\n",
    "\n",
    "---\n",
    "\n"
   ]
  },
  {
   "cell_type": "code",
   "execution_count": 2,
   "metadata": {
    "id": "7gaZRR8m5pdE"
   },
   "outputs": [],
   "source": [
    "def function(C):\n",
    "  F = C * 1.8 + 32\n",
    "  return F"
   ]
  },
  {
   "cell_type": "code",
   "execution_count": 3,
   "metadata": {
    "colab": {
     "base_uri": "https://localhost:8080/"
    },
    "id": "BfBpZ0sS55H_",
    "outputId": "8545f2f4-35a8-4335-f248-6072cb96b4ed"
   },
   "outputs": [
    {
     "name": "stdout",
     "output_type": "stream",
     "text": [
      "50.0\n"
     ]
    }
   ],
   "source": [
    "print( function(100) )"
   ]
  },
  {
   "cell_type": "markdown",
   "metadata": {
    "id": "zKXD1IVk6efX"
   },
   "source": [
    "Elements of a neural network\n",
    "\n",
    "---\n",
    "\n",
    "* Layers\n",
    "* Neurons\n",
    "* Connections\n",
    "* Connection weight / Weight\n",
    "* Neuron bias / Bias\n",
    "\n",
    "Dense VS Non-dense layers\n",
    "\n",
    "---\n",
    "\n",
    "Linear function\n",
    "\n",
    "---\n",
    "\n",
    "y = mx + n\n",
    "\n",
    "\n"
   ]
  },
  {
   "cell_type": "markdown",
   "metadata": {
    "id": "_uafBZpZO7Pz"
   },
   "source": [
    "Import dependencies"
   ]
  },
  {
   "cell_type": "code",
   "execution_count": 6,
   "metadata": {
    "id": "nlbAr8R18BIs"
   },
   "outputs": [],
   "source": [
    "import tensorflow as tf\n",
    "import numpy as np"
   ]
  },
  {
   "cell_type": "markdown",
   "metadata": {
    "id": "MlVvxU-xPQAo"
   },
   "source": [
    "Create training data"
   ]
  },
  {
   "cell_type": "code",
   "execution_count": 7,
   "metadata": {
    "id": "zCW2tf8N_KZZ"
   },
   "outputs": [],
   "source": [
    "celsius = np.array([-40,-10,0,8,15,22,38], dtype=float)\n",
    "fahrenheit = np.array([-40,14,32,46,59,72,100], dtype=float)"
   ]
  },
  {
   "cell_type": "code",
   "execution_count": 8,
   "metadata": {
    "id": "SOztoBZc_MKe"
   },
   "outputs": [],
   "source": [
    "layer = tf.keras.layers.Dense(units=1, input_shape=[1])\n",
    "model = tf.keras.Sequential([layer])\n",
    "\n",
    "#hidden1 = tf.keras.layers.Dense(units=3, input_shape=[1])\n",
    "#hidden2 = tf.keras.layers.Dense(units=3)\n",
    "#out = tf.keras.layers.Dense(units=1)\n",
    "#model = tf.keras.Sequential([hidden1,hidden2,out])"
   ]
  },
  {
   "cell_type": "code",
   "execution_count": 9,
   "metadata": {
    "id": "wEEVYRUkAAVh"
   },
   "outputs": [],
   "source": [
    "model.compile(\n",
    "      optimizer=tf.keras.optimizers.Adam(0.1),\n",
    "      loss='mean_squared_error'\n",
    ")"
   ]
  },
  {
   "cell_type": "code",
   "execution_count": 10,
   "metadata": {
    "colab": {
     "base_uri": "https://localhost:8080/"
    },
    "id": "IOPGd3qWAS86",
    "outputId": "e8bf4583-b835-439c-c851-6fc03d94c911"
   },
   "outputs": [
    {
     "name": "stdout",
     "output_type": "stream",
     "text": [
      "Finished training the model\n"
     ]
    }
   ],
   "source": [
    "record = model.fit(celsius,fahrenheit,epochs=1000,verbose=False)\n",
    "print(\"Finished training the model\")"
   ]
  },
  {
   "cell_type": "code",
   "execution_count": 13,
   "metadata": {
    "colab": {
     "base_uri": "https://localhost:8080/",
     "height": 296
    },
    "id": "msxubZK2A6xy",
    "outputId": "4002fe36-d8a3-47ec-e905-82dc928a4d4c"
   },
   "outputs": [
    {
     "data": {
      "text/plain": [
       "[<matplotlib.lines.Line2D at 0x26391a5c388>]"
      ]
     },
     "execution_count": 13,
     "metadata": {},
     "output_type": "execute_result"
    },
    {
     "data": {
      "image/png": "[encoded data removed]",
      "text/plain": [
       "<Figure size 432x288 with 1 Axes>"
      ]
     },
     "metadata": {
      "needs_background": "light"
     },
     "output_type": "display_data"
    }
   ],
   "source": [
    "import matplotlib.pyplot as plt\n",
    "plt.xlabel(\"#Epoch\")\n",
    "plt.ylabel(\"Loss magnitude\")\n",
    "plt.plot(record.history[\"loss\"])"
   ]
  },
  {
   "cell_type": "markdown",
   "metadata": {
    "id": "m89sWK9cPwGX"
   },
   "source": [
    "Use the model to predict values"
   ]
  },
  {
   "cell_type": "code",
   "execution_count": 16,
   "metadata": {
    "colab": {
     "base_uri": "https://localhost:8080/"
    },
    "id": "JGvEkC63CMZX",
    "outputId": "6c1a5158-a63f-4453-f22c-a21db2b79320"
   },
   "outputs": [
    {
     "name": "stdout",
     "output_type": "stream",
     "text": [
      "The result is [[211.74318]] fahrenheit\n"
     ]
    }
   ],
   "source": [
    "result = model.predict([100.0])\n",
    "print(\"The result is \" + str(result) + \" fahrenheit\")"
   ]
  },
  {
   "cell_type": "code",
   "execution_count": 17,
   "metadata": {
    "colab": {
     "base_uri": "https://localhost:8080/"
    },
    "id": "zHQLi4Z2DDlb",
    "outputId": "9415458a-4438-47f6-9df4-5393326b303a"
   },
   "outputs": [
    {
     "name": "stdout",
     "output_type": "stream",
     "text": [
      "Internal variables of the model\n",
      "[array([[1.7981976]], dtype=float32), array([31.92341], dtype=float32)]\n"
     ]
    }
   ],
   "source": [
    "print(\"Internal variables of the model\")\n",
    "print(layer.get_weights())\n",
    "\n",
    "#print(oculta1.get_weights())\n",
    "#print(oculta2.get_weights())\n",
    "#print(salida.get_weights())"
   ]
  },
  {
   "cell_type": "markdown",
   "metadata": {
    "id": "OmedS7kstm5R"
   },
   "source": [
    "**References**\n",
    "\n",
    "https://www.youtube.com/watch?v=iX_on3VxZzk\n",
    "\n",
    "https://towardsdatascience.com/a-beginners-guide-to-convolutional-neural-networks-cnns-14649dbddce8\n",
    "\n",
    "https://medium.com/datathings/dense-layers-explained-in-a-simple-way-62fe1db0ed75\n",
    "\n",
    "https://medium.com/analytics-vidhya/dense-or-convolutional-part-1-c75c59c5b4ad"
   ]
  }
 ],
 "metadata": {
  "accelerator": "GPU",
  "colab": {
   "authorship_tag": "ABX9TyOT5d0fLIC1C/+IyLJb2d0j",
   "collapsed_sections": [],
   "include_colab_link": true,
   "name": "0_Ajuste_Lineal.ipynb",
   "provenance": []
  },
  "kernelspec": {
   "display_name": "Python 3 (ipykernel)",
   "language": "python",
   "name": "python3"
  },
  "language_info": {
   "codemirror_mode": {
    "name": "ipython",
    "version": 3
   },
   "file_extension": ".py",
   "mimetype": "text/x-python",
   "name": "python",
   "nbconvert_exporter": "python",
   "pygments_lexer": "ipython3",
   "version": "3.7.13"
  }
 },
 "nbformat": 4,
 "nbformat_minor": 4
}
