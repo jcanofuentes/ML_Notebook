{
  "nbformat": 4,
  "nbformat_minor": 0,
  "metadata": {
    "colab": {
      "name": "0_Ajuste_Lineal.ipynb",
      "provenance": [],
      "collapsed_sections": [],
      "authorship_tag": "ABX9TyOT5d0fLIC1C/+IyLJb2d0j",
      "include_colab_link": true
    },
    "kernelspec": {
      "name": "python3",
      "display_name": "Python 3"
    },
    "language_info": {
      "name": "python"
    },
    "accelerator": "GPU"
  },
  "cells": [
    {
      "cell_type": "markdown",
      "metadata": {
        "id": "view-in-github",
        "colab_type": "text"
      },
      "source": [
        "<a href=\"https://colab.research.google.com/github/jcanofuentes/ML_Notebook/blob/main/0_Ajuste_Lineal.ipynb\" target=\"_parent\"><img src=\"https://colab.research.google.com/assets/colab-badge.svg\" alt=\"Open In Colab\"/></a>"
      ]
    },
    {
      "cell_type": "markdown",
      "source": [
        "Machine Learning VS Regular Programming\n",
        "\n",
        "---\n",
        "\n"
      ],
      "metadata": {
        "id": "LdcEkBD_5OYf"
      }
    },
    {
      "cell_type": "code",
      "source": [
        "def function(C):\n",
        "  F = C * 1.8 + 32\n",
        "  return F"
      ],
      "metadata": {
        "id": "7gaZRR8m5pdE"
      },
      "execution_count": 1,
      "outputs": []
    },
    {
      "cell_type": "code",
      "source": [
        "print( function(100) )"
      ],
      "metadata": {
        "colab": {
          "base_uri": "https://localhost:8080/"
        },
        "id": "BfBpZ0sS55H_",
        "outputId": "8545f2f4-35a8-4335-f248-6072cb96b4ed"
      },
      "execution_count": 2,
      "outputs": [
        {
          "output_type": "stream",
          "name": "stdout",
          "text": [
            "212.0\n"
          ]
        }
      ]
    },
    {
      "cell_type": "markdown",
      "source": [
        "Elements of a neural network\n",
        "\n",
        "---\n",
        "\n",
        "* Layers\n",
        "* Neurons\n",
        "* Connections\n",
        "* Connection weight / Weight\n",
        "* Neuron bias / Bias\n",
        "\n",
        "Dense VS Non-dense layers\n",
        "\n",
        "---\n",
        "\n",
        "Linear function\n",
        "\n",
        "---\n",
        "\n",
        "y = mx + n\n",
        "\n",
        "\n"
      ],
      "metadata": {
        "id": "zKXD1IVk6efX"
      }
    },
    {
      "cell_type": "markdown",
      "source": [
        "Import dependencies"
      ],
      "metadata": {
        "id": "_uafBZpZO7Pz"
      }
    },
    {
      "cell_type": "code",
      "source": [
        "import tensorflow as tf\n",
        "import numpy as np"
      ],
      "metadata": {
        "id": "nlbAr8R18BIs"
      },
      "execution_count": 3,
      "outputs": []
    },
    {
      "cell_type": "markdown",
      "source": [
        "Create training data"
      ],
      "metadata": {
        "id": "MlVvxU-xPQAo"
      }
    },
    {
      "cell_type": "code",
      "source": [
        "celsius = np.array([-40,-10,0,8,15,22,38], dtype=float)\n",
        "fahrenheit = np.array([-40,14,32,46,59,72,100], dtype=float)"
      ],
      "metadata": {
        "id": "zCW2tf8N_KZZ"
      },
      "execution_count": 4,
      "outputs": []
    },
    {
      "cell_type": "code",
      "source": [
        "layer = tf.keras.layers.Dense(units=1, input_shape=[1])\n",
        "model = tf.keras.Sequential([layer])\n",
        "\n",
        "#hidden1 = tf.keras.layers.Dense(units=3, input_shape=[1])\n",
        "#hidden2 = tf.keras.layers.Dense(units=3)\n",
        "#out = tf.keras.layers.Dense(units=1)\n",
        "#model = tf.keras.Sequential([hidden1,hidden2,out])"
      ],
      "metadata": {
        "id": "SOztoBZc_MKe"
      },
      "execution_count": 5,
      "outputs": []
    },
    {
      "cell_type": "code",
      "source": [
        "model.compile(\n",
        "      optimizer=tf.keras.optimizers.Adam(0.1),\n",
        "      loss='mean_squared_error'\n",
        ")"
      ],
      "metadata": {
        "id": "wEEVYRUkAAVh"
      },
      "execution_count": 6,
      "outputs": []
    },
    {
      "cell_type": "code",
      "source": [
        "record = model.fit(celsius,fahrenheit,epochs=1000,verbose=False)\n",
        "print(\"Finished training the model\")"
      ],
      "metadata": {
        "colab": {
          "base_uri": "https://localhost:8080/"
        },
        "id": "IOPGd3qWAS86",
        "outputId": "e8bf4583-b835-439c-c851-6fc03d94c911"
      },
      "execution_count": 13,
      "outputs": [
        {
          "output_type": "stream",
          "name": "stdout",
          "text": [
            "Finished training the model\n"
          ]
        }
      ]
    },
    {
      "cell_type": "code",
      "source": [
        "import matplotlib.pyplot as plt\n",
        "plt.xlabel(\"#Epoch\")\n",
        "plt.ylabel(\"Loss magnitude\")\n",
        "plt.plot(record.history[\"loss\"])"
      ],
      "metadata": {
        "colab": {
          "base_uri": "https://localhost:8080/",
          "height": 296
        },
        "id": "msxubZK2A6xy",
        "outputId": "4002fe36-d8a3-47ec-e905-82dc928a4d4c"
      },
      "execution_count": 14,
      "outputs": [
        {
          "output_type": "execute_result",
          "data": {
            "text/plain": [
              "[<matplotlib.lines.Line2D at 0x7f2eb4f29790>]"
            ]
          },
          "metadata": {},
          "execution_count": 14
        },
        {
          "output_type": "display_data",
          "data": {
            "text/plain": [
              "<Figure size 432x288 with 1 Axes>"
            ],
            "image/png": "[encoded data removed]"
          },
          "metadata": {
            "needs_background": "light"
          }
        }
      ]
    },
    {
      "cell_type": "markdown",
      "source": [
        "Use the model to predict values"
      ],
      "metadata": {
        "id": "m89sWK9cPwGX"
      }
    },
    {
      "cell_type": "code",
      "source": [
        "result = model.predict([100.0])\n",
        "print(\"The result is \" + str(result) + \" fahrenheit\")"
      ],
      "metadata": {
        "colab": {
          "base_uri": "https://localhost:8080/"
        },
        "id": "JGvEkC63CMZX",
        "outputId": "6c1a5158-a63f-4453-f22c-a21db2b79320"
      },
      "execution_count": 15,
      "outputs": [
        {
          "output_type": "stream",
          "name": "stdout",
          "text": [
            "The result is [[211.74742]] fahrenheit\n"
          ]
        }
      ]
    },
    {
      "cell_type": "code",
      "source": [
        "print(\"Internal variables of the model\")\n",
        "print(layer.get_weights())\n",
        "\n",
        "#print(oculta1.get_weights())\n",
        "#print(oculta2.get_weights())\n",
        "#print(salida.get_weights())"
      ],
      "metadata": {
        "colab": {
          "base_uri": "https://localhost:8080/"
        },
        "id": "zHQLi4Z2DDlb",
        "outputId": "9415458a-4438-47f6-9df4-5393326b303a"
      },
      "execution_count": 16,
      "outputs": [
        {
          "output_type": "stream",
          "name": "stdout",
          "text": [
            "Internal variables of the model\n",
            "[array([[1.7979494]], dtype=float32), array([31.95248], dtype=float32)]\n"
          ]
        }
      ]
    },
    {
      "cell_type": "markdown",
      "source": [
        "**References**\n",
        "\n",
        "https://www.youtube.com/watch?v=iX_on3VxZzk\n",
        "\n",
        "https://towardsdatascience.com/a-beginners-guide-to-convolutional-neural-networks-cnns-14649dbddce8\n",
        "\n",
        "https://medium.com/datathings/dense-layers-explained-in-a-simple-way-62fe1db0ed75\n",
        "\n",
        "https://medium.com/analytics-vidhya/dense-or-convolutional-part-1-c75c59c5b4ad"
      ],
      "metadata": {
        "id": "OmedS7kstm5R"
      }
    }
  ]
}